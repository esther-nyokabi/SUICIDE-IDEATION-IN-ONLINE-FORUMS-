{
  "cells": [
    {
      "cell_type": "markdown",
      "metadata": {
        "id": "view-in-github",
        "colab_type": "text"
      },
      "source": [
        "<a href=\"https://colab.research.google.com/github/esther-nyokabi/SUICIDE-IDEATION-IN-ONLINE-FORUMS-/blob/main/SUICIDE_IDEATION_IN_ONLINE_FORUMS.ipynb\" target=\"_parent\"><img src=\"https://colab.research.google.com/assets/colab-badge.svg\" alt=\"Open In Colab\"/></a>"
      ]
    },
    {
      "cell_type": "markdown",
      "source": [
        "# Introduction:\n",
        "Mental health issues, including depression and suicide, are significant challenges faced by individuals worldwide, affecting people at any stage of life. Suicide prevention strategies require collaboration among various societal sectors, such as health, education, labor, justice, law, defense, politics, and media. To address this complex problem effectively, inclusive and integrated suicide prevention strategies are necessary.\n"
      ],
      "metadata": {
        "id": "wzA735oR2Pxl"
      }
    },
    {
      "cell_type": "markdown",
      "source": [
        "\n",
        "# Problem Statement:\n",
        "Social media platforms have become a channel for individuals to express their emotions, including suicidal ideation, posing a significant challenge to mental health professionals worldwide. However, identifying individuals expressing suicidal ideation online is difficult, particularly for government and mental health organizations.\n",
        "\n",
        "Our goal is to build an NLP model capable of accurately detecting posts related to depression and suicide in text. This tool will aid governments and mental health organizations in identifying individuals expressing suicidal ideation online and providing timely support to prevent suicide attempts."
      ],
      "metadata": {
        "id": "o88azRVZ4S7I"
      }
    },
    {
      "cell_type": "markdown",
      "metadata": {
        "id": "oY-b6PWz7d_v"
      },
      "source": [
        "#Objectives:\n",
        "The main objective of this project is to develop a machine learning model that can accurately detect suicide ideation from posts on Reddit. To achieve this objective, the following sub-objectives will be pursued:\n",
        "\n",
        "\n",
        "*   Collect and preprocess the data: Collect the posts from the \"SuicideWatch\" and \"depression\" subreddits using the Pushshift API and preprocess the data to remove noise, stopwords, and irrelevant information.\n",
        "*   Develop baseline models: Develop baseline text classification models using traditional machine learning algorithms such as Support Vector Machine (SVM) and Decision Trees.\n",
        "*   Develop deep learning models: Develop deep learning models such as (CNNs) and (RNNs) to improve the accuracy of the text classifier.\n",
        "*   Evaluate and compare the models: Evaluate and compare the performance of the developed models using various metrics such as accuracy, precision, recall, and F1-score.\n",
        "\n",
        "\n",
        "\n",
        "\n",
        "\n",
        "\n",
        "\n",
        "\n"
      ]
    },
    {
      "cell_type": "markdown",
      "source": [
        "#Research Questions\n",
        "*   Can machine learning algorithms accurately detect posts with suicidal ideation?\n",
        "*   What are the most important features or patterns in language that predict suicidal ideation in online forums?\n",
        "*   Are there differences in language patterns between individuals who express suicidal ideation versus those who do not?\n",
        "*   Can the developed classifier be generalized to identify suicidal ideation in other social media platforms?\n",
        "*   What ethical considerations should be taken into account when using machine learning to analyze language related to suicide ideation in online forums?\n",
        "*   Can deep learning models such as CNNs and RNNs improve the accuracy of the text classifier?"
      ],
      "metadata": {
        "id": "gz5o_s732beV"
      }
    },
    {
      "cell_type": "markdown",
      "metadata": {
        "id": "y1OZ-vcC9Git"
      },
      "source": [
        "#**Metrics of Success**\n",
        "The metric of success for this project is the accuracy score of the developed machine learning models in detecting posts related to depression and suicide in text. The accuracy score represents the percentage of correctly predicted posts out of the total number of posts in the dataset. Additionally, other metrics such as precision, recall, and F1-score will also be used to evaluate and compare the performance of the developed models. The goal is to achieve an accuracy score of at least 80%."
      ]
    },
    {
      "cell_type": "markdown",
      "metadata": {
        "id": "HmFmttgO9LRr"
      },
      "source": [
        "#**Content**\n",
        "\n",
        "\n",
        "\n",
        "\n",
        "\n",
        "1.   Data Processing\n",
        "\n",
        "1.   EDA\n",
        "2.   Model Selection\n",
        "\n",
        "4.   Training/Testing\n",
        "\n",
        "1.   Model Evaluation\n",
        "2.   Conclusion and Recommendations\n",
        "\n",
        "\n",
        "\n",
        "\n"
      ]
    },
    {
      "cell_type": "markdown",
      "metadata": {
        "id": "UsAQSFXn7nd3"
      },
      "source": [
        "#**Data Processing**"
      ]
    },
    {
      "cell_type": "code",
      "execution_count": null,
      "metadata": {
        "id": "NvrWT758_HGE"
      },
      "outputs": [],
      "source": [
        "# Import libraries\n",
        "import pandas as pd # data processing/analysis\n",
        "import numpy as np # linear algebra\n",
        "import matplotlib.pyplot as plt # for visualizations\n",
        "import seaborn as sns # for visualizations\n",
        "from sklearn import metrics\n",
        "import warnings\n",
        "warnings.filterwarnings('ignore')\n"
      ]
    },
    {
      "cell_type": "code",
      "source": [
        "# Load the dataset\n",
        "df = pd.read_csv('/content/Suicide_Detection.csv')\n",
        "df.head() # Gives the first 5 records in the dataset"
      ],
      "metadata": {
        "colab": {
          "base_uri": "https://localhost:8080/",
          "height": 206
        },
        "id": "02IVFji-Tm2n",
        "outputId": "76b4671a-4c46-4fa2-b107-c2cb79eb7792"
      },
      "execution_count": null,
      "outputs": [
        {
          "output_type": "execute_result",
          "data": {
            "text/plain": [
              "   Unnamed: 0                                               text        class\n",
              "0           2  Ex Wife Threatening SuicideRecently I left my ...      suicide\n",
              "1           3  Am I weird I don't get affected by compliments...  non-suicide\n",
              "2           4  Finally 2020 is almost over... So I can never ...  non-suicide\n",
              "3           8          i need helpjust help me im crying so hard      suicide\n",
              "4           9  I’m so lostHello, my name is Adam (16) and I’v...      suicide"
            ],
            "text/html": [
              "\n",
              "  <div id=\"df-d6eb1629-83df-4b34-afc0-7a9568037e03\">\n",
              "    <div class=\"colab-df-container\">\n",
              "      <div>\n",
              "<style scoped>\n",
              "    .dataframe tbody tr th:only-of-type {\n",
              "        vertical-align: middle;\n",
              "    }\n",
              "\n",
              "    .dataframe tbody tr th {\n",
              "        vertical-align: top;\n",
              "    }\n",
              "\n",
              "    .dataframe thead th {\n",
              "        text-align: right;\n",
              "    }\n",
              "</style>\n",
              "<table border=\"1\" class=\"dataframe\">\n",
              "  <thead>\n",
              "    <tr style=\"text-align: right;\">\n",
              "      <th></th>\n",
              "      <th>Unnamed: 0</th>\n",
              "      <th>text</th>\n",
              "      <th>class</th>\n",
              "    </tr>\n",
              "  </thead>\n",
              "  <tbody>\n",
              "    <tr>\n",
              "      <th>0</th>\n",
              "      <td>2</td>\n",
              "      <td>Ex Wife Threatening SuicideRecently I left my ...</td>\n",
              "      <td>suicide</td>\n",
              "    </tr>\n",
              "    <tr>\n",
              "      <th>1</th>\n",
              "      <td>3</td>\n",
              "      <td>Am I weird I don't get affected by compliments...</td>\n",
              "      <td>non-suicide</td>\n",
              "    </tr>\n",
              "    <tr>\n",
              "      <th>2</th>\n",
              "      <td>4</td>\n",
              "      <td>Finally 2020 is almost over... So I can never ...</td>\n",
              "      <td>non-suicide</td>\n",
              "    </tr>\n",
              "    <tr>\n",
              "      <th>3</th>\n",
              "      <td>8</td>\n",
              "      <td>i need helpjust help me im crying so hard</td>\n",
              "      <td>suicide</td>\n",
              "    </tr>\n",
              "    <tr>\n",
              "      <th>4</th>\n",
              "      <td>9</td>\n",
              "      <td>I’m so lostHello, my name is Adam (16) and I’v...</td>\n",
              "      <td>suicide</td>\n",
              "    </tr>\n",
              "  </tbody>\n",
              "</table>\n",
              "</div>\n",
              "      <button class=\"colab-df-convert\" onclick=\"convertToInteractive('df-d6eb1629-83df-4b34-afc0-7a9568037e03')\"\n",
              "              title=\"Convert this dataframe to an interactive table.\"\n",
              "              style=\"display:none;\">\n",
              "        \n",
              "  <svg xmlns=\"http://www.w3.org/2000/svg\" height=\"24px\"viewBox=\"0 0 24 24\"\n",
              "       width=\"24px\">\n",
              "    <path d=\"M0 0h24v24H0V0z\" fill=\"none\"/>\n",
              "    <path d=\"M18.56 5.44l.94 2.06.94-2.06 2.06-.94-2.06-.94-.94-2.06-.94 2.06-2.06.94zm-11 1L8.5 8.5l.94-2.06 2.06-.94-2.06-.94L8.5 2.5l-.94 2.06-2.06.94zm10 10l.94 2.06.94-2.06 2.06-.94-2.06-.94-.94-2.06-.94 2.06-2.06.94z\"/><path d=\"M17.41 7.96l-1.37-1.37c-.4-.4-.92-.59-1.43-.59-.52 0-1.04.2-1.43.59L10.3 9.45l-7.72 7.72c-.78.78-.78 2.05 0 2.83L4 21.41c.39.39.9.59 1.41.59.51 0 1.02-.2 1.41-.59l7.78-7.78 2.81-2.81c.8-.78.8-2.07 0-2.86zM5.41 20L4 18.59l7.72-7.72 1.47 1.35L5.41 20z\"/>\n",
              "  </svg>\n",
              "      </button>\n",
              "      \n",
              "  <style>\n",
              "    .colab-df-container {\n",
              "      display:flex;\n",
              "      flex-wrap:wrap;\n",
              "      gap: 12px;\n",
              "    }\n",
              "\n",
              "    .colab-df-convert {\n",
              "      background-color: #E8F0FE;\n",
              "      border: none;\n",
              "      border-radius: 50%;\n",
              "      cursor: pointer;\n",
              "      display: none;\n",
              "      fill: #1967D2;\n",
              "      height: 32px;\n",
              "      padding: 0 0 0 0;\n",
              "      width: 32px;\n",
              "    }\n",
              "\n",
              "    .colab-df-convert:hover {\n",
              "      background-color: #E2EBFA;\n",
              "      box-shadow: 0px 1px 2px rgba(60, 64, 67, 0.3), 0px 1px 3px 1px rgba(60, 64, 67, 0.15);\n",
              "      fill: #174EA6;\n",
              "    }\n",
              "\n",
              "    [theme=dark] .colab-df-convert {\n",
              "      background-color: #3B4455;\n",
              "      fill: #D2E3FC;\n",
              "    }\n",
              "\n",
              "    [theme=dark] .colab-df-convert:hover {\n",
              "      background-color: #434B5C;\n",
              "      box-shadow: 0px 1px 3px 1px rgba(0, 0, 0, 0.15);\n",
              "      filter: drop-shadow(0px 1px 2px rgba(0, 0, 0, 0.3));\n",
              "      fill: #FFFFFF;\n",
              "    }\n",
              "  </style>\n",
              "\n",
              "      <script>\n",
              "        const buttonEl =\n",
              "          document.querySelector('#df-d6eb1629-83df-4b34-afc0-7a9568037e03 button.colab-df-convert');\n",
              "        buttonEl.style.display =\n",
              "          google.colab.kernel.accessAllowed ? 'block' : 'none';\n",
              "\n",
              "        async function convertToInteractive(key) {\n",
              "          const element = document.querySelector('#df-d6eb1629-83df-4b34-afc0-7a9568037e03');\n",
              "          const dataTable =\n",
              "            await google.colab.kernel.invokeFunction('convertToInteractive',\n",
              "                                                     [key], {});\n",
              "          if (!dataTable) return;\n",
              "\n",
              "          const docLinkHtml = 'Like what you see? Visit the ' +\n",
              "            '<a target=\"_blank\" href=https://colab.research.google.com/notebooks/data_table.ipynb>data table notebook</a>'\n",
              "            + ' to learn more about interactive tables.';\n",
              "          element.innerHTML = '';\n",
              "          dataTable['output_type'] = 'display_data';\n",
              "          await google.colab.output.renderOutput(dataTable, element);\n",
              "          const docLink = document.createElement('div');\n",
              "          docLink.innerHTML = docLinkHtml;\n",
              "          element.appendChild(docLink);\n",
              "        }\n",
              "      </script>\n",
              "    </div>\n",
              "  </div>\n",
              "  "
            ]
          },
          "metadata": {},
          "execution_count": 6
        }
      ]
    },
    {
      "cell_type": "code",
      "execution_count": null,
      "metadata": {
        "colab": {
          "base_uri": "https://localhost:8080/"
        },
        "id": "OYA-HugjuR0p",
        "outputId": "f82c22d0-5860-4def-ef90-ccadd5428e8c"
      },
      "outputs": [
        {
          "output_type": "execute_result",
          "data": {
            "text/plain": [
              "(232074, 3)"
            ]
          },
          "metadata": {},
          "execution_count": 8
        }
      ],
      "source": [
        "df.shape # Gives the number of elements in each dimension"
      ]
    },
    {
      "cell_type": "markdown",
      "metadata": {
        "id": "ltSmNFk4u27P"
      },
      "source": [
        "The data set has 232074 rows and 3 columns"
      ]
    },
    {
      "cell_type": "code",
      "execution_count": null,
      "metadata": {
        "colab": {
          "base_uri": "https://localhost:8080/"
        },
        "id": "kep8D1lYwxgk",
        "outputId": "1095f451-79a9-42c1-e236-e09627e1a68b"
      },
      "outputs": [
        {
          "output_type": "execute_result",
          "data": {
            "text/plain": [
              "Index(['Unnamed: 0', 'text', 'class'], dtype='object')"
            ]
          },
          "metadata": {},
          "execution_count": 9
        }
      ],
      "source": [
        "df.columns # Gives the column names"
      ]
    },
    {
      "cell_type": "code",
      "execution_count": null,
      "metadata": {
        "colab": {
          "base_uri": "https://localhost:8080/"
        },
        "id": "Y0FXHCJjuVx4",
        "outputId": "62377ff0-eac5-432c-e28f-bc8109cb0b03"
      },
      "outputs": [
        {
          "output_type": "stream",
          "name": "stdout",
          "text": [
            "<class 'pandas.core.frame.DataFrame'>\n",
            "RangeIndex: 232074 entries, 0 to 232073\n",
            "Data columns (total 3 columns):\n",
            " #   Column      Non-Null Count   Dtype \n",
            "---  ------      --------------   ----- \n",
            " 0   Unnamed: 0  232074 non-null  int64 \n",
            " 1   text        232074 non-null  object\n",
            " 2   class       232074 non-null  object\n",
            "dtypes: int64(1), object(2)\n",
            "memory usage: 5.3+ MB\n"
          ]
        }
      ],
      "source": [
        "df.info() # not null part is very useful to see how many nulls are there in data"
      ]
    },
    {
      "cell_type": "code",
      "execution_count": null,
      "metadata": {
        "colab": {
          "base_uri": "https://localhost:8080/"
        },
        "id": "ajedUq5Xuhe4",
        "outputId": "554e0aac-e16d-428e-d038-447d32287338"
      },
      "outputs": [
        {
          "output_type": "execute_result",
          "data": {
            "text/plain": [
              "suicide        116037\n",
              "non-suicide    116037\n",
              "Name: class, dtype: int64"
            ]
          },
          "metadata": {},
          "execution_count": 11
        }
      ],
      "source": [
        "df['class'].value_counts() # Returns count of unique values"
      ]
    },
    {
      "cell_type": "markdown",
      "source": [
        "There are 116,037 unique values for each class."
      ],
      "metadata": {
        "id": "eHVaWM8DmjN4"
      }
    },
    {
      "cell_type": "code",
      "execution_count": null,
      "metadata": {
        "colab": {
          "base_uri": "https://localhost:8080/"
        },
        "id": "iceQOwN6vTed",
        "outputId": "2e4c6fbc-abfa-4175-ebb3-4feca3032765"
      },
      "outputs": [
        {
          "output_type": "execute_result",
          "data": {
            "text/plain": [
              "Unnamed: 0    0\n",
              "text          0\n",
              "class         0\n",
              "dtype: int64"
            ]
          },
          "metadata": {},
          "execution_count": 12
        }
      ],
      "source": [
        "missing_values_count = df.isnull().sum()\n",
        "missing_values_count"
      ]
    },
    {
      "cell_type": "markdown",
      "metadata": {
        "id": "WXHEkn9F5bkh"
      },
      "source": [
        "There are no missing values in the dataset."
      ]
    },
    {
      "cell_type": "code",
      "execution_count": null,
      "metadata": {
        "colab": {
          "base_uri": "https://localhost:8080/"
        },
        "id": "dOnPt8S0xc1i",
        "outputId": "c4936520-29f9-4b96-ebeb-513936b88988"
      },
      "outputs": [
        {
          "output_type": "execute_result",
          "data": {
            "text/plain": [
              "0"
            ]
          },
          "metadata": {},
          "execution_count": 10
        }
      ],
      "source": [
        "sum(df.duplicated())"
      ]
    },
    {
      "cell_type": "markdown",
      "metadata": {
        "id": "L0z8A7u95g0i"
      },
      "source": [
        "No records have been duplicated in the dataset."
      ]
    },
    {
      "cell_type": "markdown",
      "metadata": {
        "id": "jFmRc2-1uIIu"
      },
      "source": [
        "#Preprocess the Text column"
      ]
    },
    {
      "cell_type": "code",
      "source": [
        "import pandas as pd\n",
        "from sklearn.base import TransformerMixin\n",
        "import spacy\n",
        "\n",
        "nlp = spacy.load('en_core_web_sm')\n",
        "\n",
        "class TextPreprocessor(TransformerMixin):\n",
        "    def __init__(self, text_attribute):\n",
        "        self.text_attribute = text_attribute\n",
        "        \n",
        "    def fit(self, *_):\n",
        "        return self\n",
        "    \n",
        "    def _clean(self, text):\n",
        "        # Remove bad symbols\n",
        "        bad_symbols = '!\"#%&\\'*+,-<=>?[\\\\]^_`{|}~'\n",
        "        text_without_symbols = text.translate(str.maketrans('', '', bad_symbols))\n",
        "\n",
        "        # Remove unwanted lines\n",
        "        text_without_bad_lines = ''\n",
        "        for line in text_without_symbols.split('\\n'):\n",
        "            if not line.lower().startswith('from:') and not line.lower().endswith('writes:'):\n",
        "                text_without_bad_lines += line + '\\n'\n",
        "\n",
        "        # Remove certain regex patterns\n",
        "        email_regex = r'([a-zA-Z0-9_.+-]+@[a-zA-Z0-9-]+\\.[a-zA-Z0-9-.]+)'\n",
        "        regexes_to_remove = [email_regex, r'Subject:', r'Re:']\n",
        "        for r in regexes_to_remove:\n",
        "            text_without_regex = re.sub(r, '', text_without_bad_lines)\n",
        "\n",
        "        # Remove punctuation\n",
        "        text_without_punctuation = text_without_regex.translate(str.maketrans('', '', string.punctuation))\n",
        "\n",
        "        return text_without_punctuation\n",
        "\n",
        "    def _leave_letters_only(self, text):\n",
        "        return ' '.join([word.lower() for word in text.split() if word.isalpha()])\n",
        "\n",
        "    def _lemmatize(self, text):\n",
        "        doc = nlp(text)\n",
        "        words = [x.lemma_ for x in [y for y in doc if not y.is_stop and y.pos_ != 'PUNCT' \n",
        "                                    and y.pos_ != 'PART' and y.pos_ != 'X']]\n",
        "        return ' '.join(words)\n",
        "\n",
        "    def transform(self, X, *_):\n",
        "        X_copy = X.copy()\n",
        "        X_copy[self.text_attribute] = X_copy[self.text_attribute].apply(self._preprocess_text)\n",
        "        return X_copy\n",
        "    \n",
        "    def _preprocess_text(self, text):\n",
        "        return self._lemmatize(self._leave_letters_only(self._clean(text)))\n",
        "\n",
        "# Subset the first 100 rows\n",
        "subset_df = df.head(100)\n",
        "\n",
        "# Preprocess the text column of the subset dataframe\n",
        "text_preprocessor = TextPreprocessor(text_attribute='text')\n",
        "preprocessed_data = text_preprocessor.transform(subset_df)\n",
        "\n",
        "# Save the preprocessed data to a CSV file\n",
        "preprocessed_data.to_csv('preprocessed_data.csv', index=False)\n"
      ],
      "metadata": {
        "id": "p726j76NkPb_"
      },
      "execution_count": null,
      "outputs": []
    },
    {
      "cell_type": "markdown",
      "source": [
        "We defined a TextPreprocessor class that cleans, removes unwanted lines, and regex patterns from the text, removes punctuation, and lemmatizes the text data.We then applied these preprocessing techniques to a subset of data loaded from a CSV file and saved the preprocessed data to another CSV file."
      ],
      "metadata": {
        "id": "FCiCnRTzmLNG"
      }
    },
    {
      "cell_type": "markdown",
      "metadata": {
        "id": "EQhPPVip7tzm"
      },
      "source": [
        "#**Exploratory Data Analysis**"
      ]
    },
    {
      "cell_type": "markdown",
      "source": [
        "##Text Data"
      ],
      "metadata": {
        "id": "6h9fAsL844aD"
      }
    },
    {
      "cell_type": "code",
      "source": [
        "# Plot word frequency\n",
        "word_freq = pd.Series(' '.join(preprocessed_data['text']).split()).value_counts()[:20]\n",
        "sns.barplot(x=word_freq.values, y=word_freq.index)\n",
        "plt.title('Top 20 Most Frequent Words')\n",
        "plt.xlabel('Frequency')\n",
        "plt.ylabel('Word')\n",
        "plt.show()"
      ],
      "metadata": {
        "colab": {
          "base_uri": "https://localhost:8080/",
          "height": 472
        },
        "id": "sxnjdpuasppP",
        "outputId": "ddb66a3c-3778-4a71-ef96-dc17290d11d0"
      },
      "execution_count": null,
      "outputs": [
        {
          "output_type": "display_data",
          "data": {
            "text/plain": [
              "<Figure size 640x480 with 1 Axes>"
            ],
            "image/png": "[encoded data removed]"
          },
          "metadata": {}
        }
      ]
    },
    {
      "cell_type": "markdown",
      "source": [
        "Converting the text column to TF-IDF features"
      ],
      "metadata": {
        "id": "V1SNDbRmQk1h"
      }
    },
    {
      "cell_type": "code",
      "source": [
        "from sklearn.feature_extraction.text import TfidfVectorizer\n",
        "\n",
        "# Split into A and B\n",
        "A = preprocessed_data['text']\n",
        "B = preprocessed_data['class']\n",
        "\n",
        "# Create a TF-IDF vectorizer object\n",
        "tfidf_vectorizer = TfidfVectorizer()\n",
        "\n",
        "# Fit the vectorizer to the data\n",
        "tfidf_vectorizer.fit(A)\n",
        "\n",
        "# Convert the data to TF-IDF features\n",
        "X_tfidf = tfidf_vectorizer.transform(A)\n"
      ],
      "metadata": {
        "id": "qpGb2Z_UP5K6"
      },
      "execution_count": null,
      "outputs": []
    },
    {
      "cell_type": "markdown",
      "source": [
        "## Class Data"
      ],
      "metadata": {
        "id": "NdsEq04KnydH"
      }
    },
    {
      "cell_type": "code",
      "source": [
        "import pandas as pd\n",
        "from sklearn.model_selection import train_test_split\n",
        "\n",
        "# Load the preprocessed data\n",
        "preprocessed_data = pd.read_csv('preprocessed_data.csv')\n",
        "\n",
        "# Check the value counts of the 'class' column\n",
        "class_counts = preprocessed_data['class'].value_counts()\n",
        "\n",
        "# Drop any classes with only one instance\n",
        "preprocessed_data = preprocessed_data[~preprocessed_data['class'].isin(class_counts[class_counts == 1].index)]\n",
        "\n",
        "# Split the data into train and test sets\n",
        "SEED = 42\n",
        "train_data, test_data = train_test_split(preprocessed_data, test_size=0.2, random_state=SEED, stratify=preprocessed_data['class'])\n"
      ],
      "metadata": {
        "id": "UVdZa5SLz48e"
      },
      "execution_count": null,
      "outputs": []
    },
    {
      "cell_type": "code",
      "source": [
        "# Check class distribution\n",
        "print(preprocessed_data['class'].value_counts())\n",
        "print(preprocessed_data['class'].value_counts(normalize=True))\n",
        "\n",
        "sns.countplot(x=preprocessed_data['class'])\n",
        "plt.title('Preprocessed Dataset Class Distribution')\n",
        "plt.xlabel(\"Label\")\n",
        "plt.ylabel(\"Count\")\n",
        "plt.show()"
      ],
      "metadata": {
        "id": "aCFkePAqubrk",
        "colab": {
          "base_uri": "https://localhost:8080/",
          "height": 576
        },
        "outputId": "f275a5aa-3341-4d93-acd4-6941de91e495"
      },
      "execution_count": null,
      "outputs": [
        {
          "output_type": "stream",
          "name": "stdout",
          "text": [
            "suicide        59\n",
            "non-suicide    41\n",
            "Name: class, dtype: int64\n",
            "suicide        0.59\n",
            "non-suicide    0.41\n",
            "Name: class, dtype: float64\n"
          ]
        },
        {
          "output_type": "display_data",
          "data": {
            "text/plain": [
              "<Figure size 640x480 with 1 Axes>"
            ],
            "image/png": "[encoded data removed]"
          },
          "metadata": {}
        }
      ]
    },
    {
      "cell_type": "code",
      "source": [
        "plt.figure(figsize=(12,10))\n",
        "plt.pie(train_data['class'].value_counts(), startangle=90, colors=['#00dddf', '#000fbb'],\n",
        "autopct='%0.2f%%', labels=['suicide', 'Not Suicide'])\n",
        "plt.title('Distribution of Suicide and Non-Suicide Cases in the Training Data', fontdict={'size':20})\n",
        "plt.show()"
      ],
      "metadata": {
        "colab": {
          "base_uri": "https://localhost:8080/",
          "height": 837
        },
        "id": "PiWMvxJh0oiD",
        "outputId": "e4436ae9-1f9d-4c06-d19e-8477f855858d"
      },
      "execution_count": null,
      "outputs": [
        {
          "output_type": "display_data",
          "data": {
            "text/plain": [
              "<Figure size 1200x1000 with 1 Axes>"
            ],
            "image/png": "[encoded data removed]"
          },
          "metadata": {}
        }
      ]
    },
    {
      "cell_type": "markdown",
      "metadata": {
        "id": "bohWunypC9LI"
      },
      "source": [
        "#**Model Selection**\n",
        "We shall be using **Support Vector Machine (SVM)** for our supervised machine learning model and **Recurrent Neural Network (RNN)** for our deep learning model"
      ]
    },
    {
      "cell_type": "markdown",
      "source": [
        "##**Support Vector Machine (SVM)**"
      ],
      "metadata": {
        "id": "TE30IXJ7l3ZS"
      }
    },
    {
      "cell_type": "code",
      "source": [
        "# Load the preprocessed data\n",
        "preprocessed_data = pd.read_csv('preprocessed_data.csv')\n",
        "\n",
        "# Split into X and y\n",
        "X = preprocessed_data['text']\n",
        "y = preprocessed_data['class']\n",
        "\n",
        "# Split into training and testing sets\n",
        "X_train, X_test, y_train, y_test = train_test_split(X, y, test_size=0.2, random_state=42)\n"
      ],
      "metadata": {
        "id": "rtzhgYAmjRoY"
      },
      "execution_count": null,
      "outputs": []
    },
    {
      "cell_type": "markdown",
      "source": [
        "Feature Extraction: Convert the preprocessed text data into numerical features."
      ],
      "metadata": {
        "id": "WnVBdfFxkeJb"
      }
    },
    {
      "cell_type": "code",
      "source": [
        "# Convert text data to TF-IDF features\n",
        "from sklearn.feature_extraction.text import TfidfVectorizer\n",
        "\n",
        "vectorizer = TfidfVectorizer(max_features=5000)\n",
        "X_train_tfidf = vectorizer.fit_transform(X_train)\n",
        "X_test_tfidf = vectorizer.transform(X_test)\n"
      ],
      "metadata": {
        "id": "Zld4JXKnkjK6"
      },
      "execution_count": null,
      "outputs": []
    },
    {
      "cell_type": "markdown",
      "source": [
        "**Model Training and Evaluation:**"
      ],
      "metadata": {
        "id": "b2EC8vnnktJk"
      }
    },
    {
      "cell_type": "code",
      "source": [
        "# Train an SVM model\n",
        "from sklearn.svm import SVC\n",
        "\n",
        "svm = SVC(kernel='linear', C=1.0, random_state=42)\n",
        "svm.fit(X_train_tfidf, y_train)\n",
        "\n",
        "# Evaluate the SVM model\n",
        "from sklearn.metrics import classification_report\n",
        "\n",
        "y_pred = svm.predict(X_test_tfidf)\n",
        "print(classification_report(y_test, y_pred))\n"
      ],
      "metadata": {
        "colab": {
          "base_uri": "https://localhost:8080/"
        },
        "id": "grdvq2pPkvsw",
        "outputId": "c893244b-cc97-4788-f450-56d66875dc73"
      },
      "execution_count": null,
      "outputs": [
        {
          "output_type": "stream",
          "name": "stdout",
          "text": [
            "              precision    recall  f1-score   support\n",
            "\n",
            " non-suicide       0.50      0.80      0.62         5\n",
            "     suicide       0.92      0.73      0.81        15\n",
            "\n",
            "    accuracy                           0.75        20\n",
            "   macro avg       0.71      0.77      0.72        20\n",
            "weighted avg       0.81      0.75      0.76        20\n",
            "\n"
          ]
        }
      ]
    },
    {
      "cell_type": "markdown",
      "source": [
        "The SVM model achieved an accuracy of 0.75, with \n",
        "\n",
        "*   Higher precision for the \"suicide\" class (0.92) than for the \"non-suicide\" class (0.50). \n",
        "*   The recall score was 0.80 for \"non-suicide\" and 0.73 for \"suicide\"\n",
        "\n",
        "*    The F1-score was 0.62 for \"non-suicide\" and 0.81 for \"suicide\", with a weighted average F1-score of 0.76\n",
        "\n",
        "The model performed moderately well, but could be improved with further tuning. \n",
        "  "
      ],
      "metadata": {
        "id": "V4T3Tc6ksrGu"
      }
    },
    {
      "cell_type": "markdown",
      "source": [
        "##**Recurrent Neural Network (RNN)**"
      ],
      "metadata": {
        "id": "LXfYJJ1HtPa6"
      }
    },
    {
      "cell_type": "code",
      "source": [
        "# We use Keras to build a deep learning RNN model that can classify text into two categories with a specified accuracy metric.\n",
        "from tensorflow.keras.models import Sequential\n",
        "from tensorflow.keras.layers import Embedding, LSTM, Dense\n",
        "\n",
        "max_features = 10000  # Only consider the top 10,000 words in the vocabulary\n",
        "maxlen = 200  # Cut off text after 200 words\n",
        "embedding_dim = 128  # Dimensionality of the embedding space\n",
        "hidden_dim = 64  # Dimensionality of the LSTM output space\n",
        "\n",
        "model = Sequential()\n",
        "model.add(Embedding(max_features, embedding_dim, input_length=maxlen))\n",
        "model.add(LSTM(hidden_dim))\n",
        "model.add(Dense(2, activation='softmax'))\n",
        "\n",
        "model.compile(loss='categorical_crossentropy', optimizer='adam', metrics=['accuracy'])\n",
        "model.summary()"
      ],
      "metadata": {
        "colab": {
          "base_uri": "https://localhost:8080/"
        },
        "id": "L0EmJgtfA8tt",
        "outputId": "dcb9b639-999b-4a42-842b-5eeef2d6a966"
      },
      "execution_count": null,
      "outputs": [
        {
          "output_type": "stream",
          "name": "stdout",
          "text": [
            "Model: \"sequential_17\"\n",
            "_________________________________________________________________\n",
            " Layer (type)                Output Shape              Param #   \n",
            "=================================================================\n",
            " embedding_17 (Embedding)    (None, 200, 128)          1280000   \n",
            "                                                                 \n",
            " lstm_15 (LSTM)              (None, 64)                49408     \n",
            "                                                                 \n",
            " dense_18 (Dense)            (None, 2)                 130       \n",
            "                                                                 \n",
            "=================================================================\n",
            "Total params: 1,329,538\n",
            "Trainable params: 1,329,538\n",
            "Non-trainable params: 0\n",
            "_________________________________________________________________\n"
          ]
        }
      ]
    },
    {
      "cell_type": "code",
      "source": [
        "from tensorflow.keras.preprocessing.text import Tokenizer\n",
        "from tensorflow.keras.preprocessing.sequence import pad_sequences\n",
        "\n",
        "tokenizer = Tokenizer(num_words=max_features)\n",
        "tokenizer.fit_on_texts(X_train)\n",
        "\n",
        "X_train_seq = tokenizer.texts_to_sequences(X_train)\n",
        "X_test_seq = tokenizer.texts_to_sequences(X_test)\n",
        "\n",
        "X_train_seq = pad_sequences(X_train_seq, maxlen=maxlen)\n",
        "X_test_seq = pad_sequences(X_test_seq, maxlen=maxlen)\n",
        "\n",
        "history = model.fit(X_train_seq, y_train, epochs=10, batch_size=32, validation_data=(X_test_seq, y_test))"
      ],
      "metadata": {
        "colab": {
          "base_uri": "https://localhost:8080/"
        },
        "id": "LGVgOxZ2Bc4e",
        "outputId": "d3bcb9b5-1717-4a2b-ed74-6c041a4b5890"
      },
      "execution_count": null,
      "outputs": [
        {
          "output_type": "stream",
          "name": "stdout",
          "text": [
            "Epoch 1/10\n",
            "3/3 [==============================] - 1s 222ms/step - loss: 0.0427 - accuracy: 1.0000 - val_loss: 0.6443 - val_accuracy: 0.6500\n",
            "Epoch 2/10\n",
            "3/3 [==============================] - 1s 199ms/step - loss: 0.0324 - accuracy: 1.0000 - val_loss: 0.6081 - val_accuracy: 0.6500\n",
            "Epoch 3/10\n",
            "3/3 [==============================] - 0s 173ms/step - loss: 0.0263 - accuracy: 1.0000 - val_loss: 0.5788 - val_accuracy: 0.6500\n",
            "Epoch 4/10\n",
            "3/3 [==============================] - 1s 189ms/step - loss: 0.0222 - accuracy: 1.0000 - val_loss: 0.5579 - val_accuracy: 0.7000\n",
            "Epoch 5/10\n",
            "3/3 [==============================] - 1s 188ms/step - loss: 0.0189 - accuracy: 1.0000 - val_loss: 0.5430 - val_accuracy: 0.7500\n",
            "Epoch 6/10\n",
            "3/3 [==============================] - 1s 207ms/step - loss: 0.0163 - accuracy: 1.0000 - val_loss: 0.5327 - val_accuracy: 0.7500\n",
            "Epoch 7/10\n",
            "3/3 [==============================] - 1s 304ms/step - loss: 0.0144 - accuracy: 1.0000 - val_loss: 0.5266 - val_accuracy: 0.8000\n",
            "Epoch 8/10\n",
            "3/3 [==============================] - 1s 295ms/step - loss: 0.0129 - accuracy: 1.0000 - val_loss: 0.5238 - val_accuracy: 0.8000\n",
            "Epoch 9/10\n",
            "3/3 [==============================] - 1s 275ms/step - loss: 0.0113 - accuracy: 1.0000 - val_loss: 0.5238 - val_accuracy: 0.8000\n",
            "Epoch 10/10\n",
            "3/3 [==============================] - 1s 186ms/step - loss: 0.0103 - accuracy: 1.0000 - val_loss: 0.5256 - val_accuracy: 0.8000\n"
          ]
        }
      ]
    },
    {
      "cell_type": "code",
      "source": [
        "# Finally, we can evaluate the performance of the model on the test data:\n",
        "score = model.evaluate(X_test_seq, y_test, verbose=0)\n",
        "print(f'Test loss: {score[0]}')\n",
        "print(f'Test accuracy: {score[1]}')"
      ],
      "metadata": {
        "colab": {
          "base_uri": "https://localhost:8080/"
        },
        "id": "WOto0gf8Bw6k",
        "outputId": "97f4645c-d4ea-4ce7-8d95-24d552b0b263"
      },
      "execution_count": null,
      "outputs": [
        {
          "output_type": "stream",
          "name": "stdout",
          "text": [
            "Test loss: 0.5256346464157104\n",
            "Test accuracy: 0.800000011920929\n"
          ]
        }
      ]
    },
    {
      "cell_type": "markdown",
      "source": [
        "The test loss is 0.52, which is a measure of how well the model predicts the target variable. A lower test loss indicates better performance.\n",
        "\n",
        "The test accuracy of the model is 0.80, which implies that the model is able to predict the sentiment of the given texts with an accuracy of 80%"
      ],
      "metadata": {
        "id": "53Dhp3m4DfVs"
      }
    },
    {
      "cell_type": "code",
      "source": [
        "# Save the model\n",
        "model.save('my_model.h5') "
      ],
      "metadata": {
        "id": "UgIW2MYHqPzl"
      },
      "execution_count": null,
      "outputs": []
    },
    {
      "cell_type": "markdown",
      "source": [
        "#**Findings**\n",
        "\n",
        "*   The RNN model achieved an accuracy score of 80% and a test loss of 0.53, which indicates that it accurately detects posts with suicidal ideation.\n",
        "\n",
        "*   The SVM model had an accuracy score of 75%, with higher recall for \"non-suicide\" (80%) and lower recall for \"suicide\" (73%). It had a better precision score for \"suicide\" (0.92) than \"non-suicide\" (0.5).\n",
        "*   The F1-score for \"non-suicide\" was 0.62 and for \"suicide\" was 0.81, with a weighted average F1-score of 0.76 for the SVM model.\n",
        "\n",
        "*   The findings suggest that deep learning models such as RNNs can improve the accuracy of the text classifier for detecting posts related to suicidal ideation, while traditional machine learning models like SVMs can still be effective with further refinement.\n",
        "\n",
        "\n",
        "\n",
        "\n",
        "\n"
      ],
      "metadata": {
        "id": "dX6HZZAvrZAR"
      }
    },
    {
      "cell_type": "markdown",
      "source": [
        "#**Conclusion & Recommendations**\n",
        "\n",
        "Detecting suicidal ideation from text data is a challenging task, but  Natural Language Processing techniques (NLP) have shown promising results in accurately identifying posts related to suicidal ideation.\n",
        "\n",
        "> Both SVM and RNN models showed potential for detecting suicide ideation in online forums.\n",
        "However, further research is needed to improve their performance, especially in terms of precision and recall scores for the \"non-suicide\" class.\n",
        "\n",
        "> Further exploration is needed to identify the most important features or patterns in language that predict suicidal ideation in online forums.\n",
        "\n",
        "> It is also important to consider ethical issues such as privacy, consent, and responsible use  and interpretation of the results when using machine learning to analyze language related to suicide ideation in online forums.\n",
        "\n",
        "> Despite the limitations, the developed models can serve as a valuable tool for assisting mental health professionals in identifying individuals at risk of suicide in online forums.\n",
        "\n",
        "> Additionally, it is important to note that these models should not be used as a substitute for mental health professionals but rather as a tool to assist in identifying individuals who may be at risk for suicide.\n",
        "\n",
        "\n"
      ],
      "metadata": {
        "id": "dpMyZGUdn2hy"
      }
    }
  ],
  "metadata": {
    "colab": {
      "provenance": [],
      "toc_visible": true,
      "include_colab_link": true
    },
    "kernelspec": {
      "display_name": "Python 3",
      "name": "python3"
    },
    "language_info": {
      "name": "python"
    }
  },
  "nbformat": 4,
  "nbformat_minor": 0
}